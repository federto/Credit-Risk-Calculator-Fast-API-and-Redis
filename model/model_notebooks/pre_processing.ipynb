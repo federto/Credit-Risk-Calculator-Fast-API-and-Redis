{
 "cells": [
  {
   "cell_type": "code",
   "execution_count": 2,
   "metadata": {},
   "outputs": [],
   "source": [
    "#Import \n",
    " \n",
    "import pandas as pd\n",
    "import numpy as np\n",
    "import seaborn as sns\n",
    "import matplotlib.pyplot as plt\n",
    "from sklearn.preprocessing import StandardScaler\n",
    "from logging import exception\n",
    "import matplotlib.pyplot as plt\n",
    "\n",
    "pd.set_option('display.max_rows', 500)\n",
    "pd.set_option('display.max_columns', 500)\n",
    "pd.set_option('display.width', 50)"
   ]
  },
  {
   "cell_type": "code",
   "execution_count": 3,
   "metadata": {},
   "outputs": [
    {
     "name": "stderr",
     "output_type": "stream",
     "text": [
      "C:\\Users\\59898\\AppData\\Local\\Temp\\ipykernel_168748\\3637694140.py:2: DtypeWarning: Columns (50) have mixed types. Specify dtype option on import or set low_memory=False.\n",
      "  df = pd.read_csv(r\"C:\\Users\\59898\\Desktop\\proyect\\model\\data\\credit-data-2010\\train\\train.csv\",encoding = \"ISO-8859-1\", sep = \",\")\n"
     ]
    }
   ],
   "source": [
    "# Read the DF\n",
    "df = pd.read_csv(r\"C:\\Users\\59898\\Desktop\\proyect\\model\\data\\credit-data-2010\\train\\train.csv\",encoding = \"ISO-8859-1\", sep = \",\")"
   ]
  },
  {
   "cell_type": "code",
   "execution_count": 3,
   "metadata": {},
   "outputs": [],
   "source": [
    "# fill empty spaces\n",
    "for col in df.columns:\n",
    "    df.replace({\" \": np.nan},inplace=True)"
   ]
  },
  {
   "cell_type": "code",
   "execution_count": 4,
   "metadata": {},
   "outputs": [],
   "source": [
    "# Drop columns with more than 30% of missing values\n",
    "for col in df.columns:\n",
    "    if df[col].isnull().sum() / len(df) > 0.3:\n",
    "        df.drop(col, axis = 1, inplace = True)"
   ]
  },
  {
   "cell_type": "code",
   "execution_count": 5,
   "metadata": {},
   "outputs": [],
   "source": [
    "# Drop columns with unique values and id client\n",
    "for col in df.columns:\n",
    "    if df[col].nunique() == 1 or col == \"ID_CLIENT\":\n",
    "        df.drop(col, axis = 1, inplace = True)"
   ]
  },
  {
   "cell_type": "code",
   "execution_count": 6,
   "metadata": {},
   "outputs": [],
   "source": [
    "# Numeric columns list\n",
    "Numeric_Columns = [\"ID_CLIENT\", \"PAYMENT_DAY\", \"QUANT_ADDITIONAL_CARDS\",\"POSTAL_ADDRESS_TYPE\", \"MARITAL_STATUS\", \"QUANT_DEPENDANTS\", \"EDUCATION_LEVEL\", \"NACIONALITY\", \"RESIDENCE_TYPE\", \n",
    "                   \"MONTHS_IN_RESIDENCE\", \"FLAG_EMAIL\", \"FLAG_VISA\",\"FLAG_MASTERCARD\", \"FLAG_DINERS\", \"FLAG_AMERICAN_EXPRESS\",\"FLAG_OTHER_CARDS\", \"QUANT_BANKING_ACCOUNTS\", \"QUANT_SPECIAL_BANKING_ACCOUNTS\",\n",
    "                   \"PERSONAL_ASSETS_VALUE\", \"QUANT_CARS\", \"PROFESSIONAL_PHONE_AREA_CODE\",\"MONTHS_IN_THE_JOB\", \"PROFESSION_CODE\", \"OCCUPATION_TYPE\",\"MATE_PROFESSION_CODE\", \"FLAG_HOME_ADDRESS_DOCUMENT\", \"FLAG_RG\",\n",
    "                   \"FLAG_CPF\", \"FLAG_INCOME_PROOF\",  \"PRODUCT\", \"AGE\", \"RESIDENCIAL_ZIP_3\", \"PROFESSIONAL_ZIP_3\",\"TARGET_LABEL_BAD=1\", \"RESIDENCIAL_PHONE_AREA_CODE\", \"PERSONAL_MONTHLY_INCOME\", \"OTHER_INCOMES\"\n",
    "                   ]"
   ]
  },
  {
   "cell_type": "code",
   "execution_count": 7,
   "metadata": {},
   "outputs": [],
   "source": [
    "# Functions to clean strings in numerical columns and viceversa \n",
    "def try_number(value):\n",
    "    try:\n",
    "        return int(value)\n",
    "    except Exception: \n",
    "        return np.nan\n",
    "\n",
    "def try_string(value):\n",
    "    try:\n",
    "        int(value)\n",
    "        return np.nan\n",
    "    except Exception:\n",
    "        return value\n",
    "\n",
    "for col in df.columns:\n",
    "    if col in Numeric_Columns:\n",
    "        df[col] = df[col].apply(lambda x: try_number(x))\n",
    "    else : \n",
    "        df[col] = df[col].apply(lambda x: try_string(x))"
   ]
  },
  {
   "cell_type": "code",
   "execution_count": 8,
   "metadata": {},
   "outputs": [],
   "source": [
    "string_categorical_columns = [\"STATE_OF_BIRTH\", \"CITY_OF_BIRTH\", \"RESIDENCIAL_STATE\", \"RESIDENCIAL_CITY\", \"RESIDENCIAL_BOROUGH\", \"PROFESSIONAL_STATE\"]"
   ]
  },
  {
   "cell_type": "code",
   "execution_count": 9,
   "metadata": {},
   "outputs": [],
   "source": [
    "# Treat categorical string columns \n",
    "for col in df.columns:\n",
    "    if col in string_categorical_columns:\n",
    "        df[col] = df[col].str.strip()\n",
    "        df[col] = df[col].str.upper()\n",
    "        df[col] = df[col].astype(\"category\")"
   ]
  },
  {
   "cell_type": "code",
   "execution_count": 10,
   "metadata": {},
   "outputs": [],
   "source": [
    "# Categorical columns dict\n",
    "Dict_Categorical_Columns = {\"PAYMENT_DAY\" : [1,5,10,15,20,25],\n",
    "                            \"APPLICATION_SUBMISSION_TYPE\" : [\"Web\", \"Carga\"],\n",
    "                            \"POSTAL_ADDRESS_TYPE\" : [1, 2],                                       \n",
    "                            \"SEX\" : [\"F\", \"M\"],\n",
    "                            \"MARITAL_STATUS\" : [1,2,3,4,5,6,7],\n",
    "                            \"NACIONALITY\" : [0, 1, 2], \n",
    "                            \"FLAG_RESIDENCIAL_PHONE\" : [\"Y\", \"N\"],\n",
    "                            \"RESIDENCE_TYPE\" : [1,2,5],\n",
    "                            \"FLAG_EMAIL\" : [0, 1],\n",
    "                            \"FLAG_VISA\" : [0, 1],\n",
    "                            \"FLAG_MASTERCARD\" : [0,1],\n",
    "                            \"FLAG_DINERS\" : [0,1],\n",
    "                            \"FLAG_AMERICAN_EXPRESS\" : [0, 1],\n",
    "                            \"FLAG_OTHER_CARDS\" : [0,1],\n",
    "                            \"QUANT_BANKING_ACCOUNTS\" : [0,1,2],\n",
    "                            \"QUANT_SPECIAL_BANKING_ACCOUNTS\" : [0,1,2],\n",
    "                            \"QUANT_CARS\" : [0,1],\n",
    "                            \"COMPANY\" : [\"Y\", \"N\"],\n",
    "                            \"FLAG_PROFESSIONAL_PHONE\" : [\"Y\", \"N\"],\n",
    "                            \"OCCUPATION_TYPE\" :  [1,2,4,5],\n",
    "                            \"PRODUCT\" : [1,2,7],\n",
    "                            \"PROFESSION_CODE\" : list(range(20)),\n",
    "                            \"STATE_OF_BIRTH\" : ['BA', 'SP', 'RS', 'CE', 'PE', 'MG', 'XX',\n",
    "                                                'RN', 'PR', 'RJ', 'PA', 'AL', 'PB', 'MA',\n",
    "                                                'GO', 'MT', 'SC', 'PI', 'ES', 'MS', 'AC',\n",
    "                                                'SE', 'AM', 'DF', 'TO', 'AP', 'RO', 'RR'],\n",
    "                            \"RESIDENCIAL_STATE\" : ['BA', 'SP', 'RS', 'CE', 'PE', 'MG', 'XX',\n",
    "                                                'RN', 'PR', 'RJ', 'PA', 'AL', 'PB', 'MA',\n",
    "                                                'GO', 'MT', 'SC', 'PI', 'ES', 'MS', 'AC',\n",
    "                                                'SE', 'AM', 'DF', 'TO', 'AP', 'RO', 'RR'],\n",
    "                            \"PROFESSIONAL_STATE\":['BA', 'SP', 'RS', 'CE', 'PE', 'MG', 'XX',\n",
    "                                                'RN', 'PR', 'RJ', 'PA', 'AL', 'PB', 'MA',\n",
    "                                                'GO', 'MT', 'SC', 'PI', 'ES', 'MS', 'AC',\n",
    "                                                'SE', 'AM', 'DF', 'TO', 'AP', 'RO', 'RR'],\n",
    "                            # ATENTION\n",
    "                            \"QUANT_DEPENDANTS\" : list(range(10)),\n",
    "                            \"AGE\" : np.arange(18, 85).tolist() \n",
    "                                                \n",
    "                                }"
   ]
  },
  {
   "cell_type": "code",
   "execution_count": 11,
   "metadata": {},
   "outputs": [],
   "source": [
    "# Clean categorical columns\n",
    "for col in df.columns:\n",
    "    for key in Dict_Categorical_Columns:\n",
    "        if key == col:\n",
    "           df[col] = np.where(df[col].isin(Dict_Categorical_Columns[key]), df[col], np.nan)\n",
    "           df[col] = df[col].astype(\"category\")"
   ]
  },
  {
   "cell_type": "code",
   "execution_count": 12,
   "metadata": {},
   "outputs": [],
   "source": [
    "# Settin code areas to category\n",
    "code_columns = [\"RESIDENCIAL_ZIP_3,\" \"PROFESSIONAL_ZIP_3\", \"PROFESSIONAL_PHONE_AREA_CODE\", \"RESIDENCIAL_PHONE_AREA_CODE\", \"RESIDENCIAL_ZIP_3\", \"PROFESSIONAL_ZIP_3\"]\n",
    "for col in df.columns:\n",
    "    if col in code_columns:\n",
    "        df[col] = df[col].astype(\"category\")"
   ]
  },
  {
   "cell_type": "code",
   "execution_count": 13,
   "metadata": {},
   "outputs": [],
   "source": [
    "#Bin Age Column ?? bug pandas\n",
    "bins = [17, 20, 25, 30, 35, 40, 45, 50, 55,60,65,70,75,80,85,90]\n",
    "df['AGE'] = pd.cut(df['AGE'], bins)\n",
    "df[\"AGE\"] = df[\"AGE\"].astype(\"string\")\n",
    "dict = {\"(17, 20]\" : '17-20', \"(25, 30]\" : '25-30', \"(30, 35]\": '30-35', \"(35, 40]\" : '35-40', \"(45, 50]\": '45-50', \"(50, 55]\" : \"50-55\", \"(55, 60]\" : \"55-60\", \"(60, 65]\": \"60-65\", \"(65, 70]\" : \"65-70\", \"(70, ]\": \"60-65\"}\n",
    "df.replace({\"AGE\": dict},inplace=True)\n",
    "df[\"AGE\"] = df[\"AGE\"].astype(\"category\")"
   ]
  },
  {
   "cell_type": "code",
   "execution_count": 14,
   "metadata": {},
   "outputs": [],
   "source": [
    "# Drop categorical columns with a lot of values\n",
    "for col in df.columns:\n",
    "    if df[col].dtype == \"category\":\n",
    "        if df[col].value_counts(normalize=True).head(10).sum() < 0.30:\n",
    "            df.drop(col, axis = 1, inplace = True)"
   ]
  },
  {
   "cell_type": "code",
   "execution_count": 15,
   "metadata": {},
   "outputs": [],
   "source": [
    "# Feature E STATE_OF_BIRTH\n",
    "df[\"STATE_OF_BIRTH\"] = np.where(df[\"STATE_OF_BIRTH\"].astype(\"string\").fillna(\"na\") == df[\"RESIDENCIAL_STATE\"].astype(\"string\"), 1, 0)"
   ]
  },
  {
   "cell_type": "code",
   "execution_count": 17,
   "metadata": {},
   "outputs": [],
   "source": [
    "# Feature E OTHER INCOMES\n",
    "df[\"OTHER_INCOMES\"] = np.where(df[\"OTHER_INCOMES\"] == 0 , 0, 1)"
   ]
  },
  {
   "cell_type": "code",
   "execution_count": 19,
   "metadata": {},
   "outputs": [],
   "source": [
    "#Low low coef columns \n",
    "low_variance = [\"QUANT_BANKING_ACCOUNTS\"]\n",
    "for col in df.columns:\n",
    "    if col in low_variance:\n",
    "        df.drop(col,axis=1,inplace=True)"
   ]
  },
  {
   "cell_type": "code",
   "execution_count": null,
   "metadata": {},
   "outputs": [],
   "source": [
    "# # Low variance columns \n",
    "# low_variance = [\"POSTAL_ADDRESS_TYPE\", \"FLAG_DINERS\", \"FLAG_AMERICAN_EXPRESS\", \"FLAG_OTHER_CARDS\", \"QUANT_SPECIAL_BANKING_ACCOUNTS\", \"MONTHS_IN_THE_JOB\",\"OTHER_INCOMES\"]\n",
    "# for col in df.columns:\n",
    "#     if col in low_variance:\n",
    "#         df.drop(col,axis=1,inplace=True)"
   ]
  },
  {
   "cell_type": "code",
   "execution_count": 20,
   "metadata": {},
   "outputs": [],
   "source": [
    "# # bin personal assets\n",
    "# bins = [-1, 0, 25000, 30000000]\n",
    "# df[\"PERSONAL_ASSETS_VALUE\"] = pd.cut(df[\"PERSONAL_ASSETS_VALUE\"], bins)\n",
    "# df[\"PERSONAL_ASSETS_VALUE\"] = df[\"PERSONAL_ASSETS_VALUE\"].astype(\"string\")\n",
    "# dict = {\"(-1, 0]\" : '0', \"(0, 25000]\" : '0-25k', \"(25000, 30000000]\": '25k-3m'}\n",
    "# df.replace({\"PERSONAL_ASSETS_VALUE\": dict},inplace=True)\n",
    "# df[\"PERSONAL_ASSETS_VALUE\"] = df[\"PERSONAL_ASSETS_VALUE\"].astype(\"category\")"
   ]
  },
  {
   "cell_type": "code",
   "execution_count": 21,
   "metadata": {},
   "outputs": [],
   "source": [
    "# # Drop not necesary columns\n",
    "# list_columns_to_not_drop = ['PAYMENT_DAY',\n",
    "#        'APPLICATION_SUBMISSION_TYPE', 'SEX',\n",
    "#        'MARITAL_STATUS', 'QUANT_DEPENDANTS',\n",
    "#        'STATE_OF_BIRTH', 'NACIONALITY',\n",
    "#        'RESIDENCIAL_STATE',\n",
    "#        'FLAG_RESIDENCIAL_PHONE',\n",
    "#        'RESIDENCIAL_PHONE_AREA_CODE',\n",
    "#        'RESIDENCE_TYPE', 'MONTHS_IN_RESIDENCE',\n",
    "#        'FLAG_EMAIL', 'PERSONAL_MONTHLY_INCOME',\n",
    "#        'FLAG_VISA', 'FLAG_MASTERCARD',\n",
    "#        'QUANT_BANKING_ACCOUNTS',\n",
    "#        'PERSONAL_ASSETS_VALUE', 'QUANT_CARS',\n",
    "#        'COMPANY', 'FLAG_PROFESSIONAL_PHONE',\n",
    "#        'PROFESSION_CODE', 'OCCUPATION_TYPE',\n",
    "#        'PRODUCT', 'AGE', 'TARGET_LABEL_BAD=1']  \n",
    "\n",
    "# for col in df.columns:\n",
    "#     if col not in list_columns_to_not_drop:\n",
    "#         df.drop(col, axis =1, inplace=True)"
   ]
  },
  {
   "cell_type": "code",
   "execution_count": null,
   "metadata": {},
   "outputs": [],
   "source": [
    "# # Reduce categorical columns with a lot of values and keep only the top teen and create a new category called other \n",
    "# not_in_list = [\"AGE\", \"PAYMENT_DAY\"]\n",
    "# for col in df.columns:\n",
    "#     if df[col].dtype == \"category\" and col not in not_in_list:\n",
    "#         if len(df[col].value_counts().head(10).index.tolist()) > 5:\n",
    "#             mask =df[col].value_counts().head(7).index.tolist()\n",
    "#             df[col] = np.where(df[col].isin(mask), df[col], \"OTHER\")\n",
    "#             df[col] = df[col].astype(\"category\")"
   ]
  },
  {
   "cell_type": "code",
   "execution_count": 22,
   "metadata": {},
   "outputs": [],
   "source": [
    "df.to_csv(\"10.csv\")"
   ]
  }
 ],
 "metadata": {
  "kernelspec": {
   "display_name": "Python 3.10.4 64-bit",
   "language": "python",
   "name": "python3"
  },
  "language_info": {
   "codemirror_mode": {
    "name": "ipython",
    "version": 3
   },
   "file_extension": ".py",
   "mimetype": "text/x-python",
   "name": "python",
   "nbconvert_exporter": "python",
   "pygments_lexer": "ipython3",
   "version": "3.10.4 (tags/v3.10.4:9d38120, Mar 23 2022, 23:13:41) [MSC v.1929 64 bit (AMD64)]"
  },
  "orig_nbformat": 4,
  "vscode": {
   "interpreter": {
    "hash": "2f0391182499eb7d1c5c751ec44e92775962a06825ffcc94383a3e33c4ce1168"
   }
  }
 },
 "nbformat": 4,
 "nbformat_minor": 2
}
