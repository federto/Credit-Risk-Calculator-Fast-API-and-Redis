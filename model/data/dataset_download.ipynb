{
 "cells": [
  {
   "cell_type": "code",
   "execution_count": 3,
   "metadata": {},
   "outputs": [],
   "source": [
    "import boto3\n",
    "import os"
   ]
  },
  {
   "cell_type": "code",
   "execution_count": 9,
   "metadata": {},
   "outputs": [
    {
     "data": {
      "text/plain": [
       "True"
      ]
     },
     "execution_count": 9,
     "metadata": {},
     "output_type": "execute_result"
    }
   ],
   "source": [
    "from dotenv import load_dotenv\n",
    "load_dotenv()"
   ]
  },
  {
   "cell_type": "code",
   "execution_count": 10,
   "metadata": {},
   "outputs": [],
   "source": [
    "\n",
    "# fetch credentials from env variables\n",
    "aws_access_key_id = os.environ.get('AWS_ACCESS_KEY_ID')\n",
    "aws_secret_access_key = os.environ.get('AWS_SECRET_ACCESS_KEY')\n",
    "\n",
    "# setup a AWS S3 client/resource\n",
    "s3 = boto3.resource(\n",
    "    's3', \n",
    "    aws_access_key_id=aws_access_key_id,\n",
    "    aws_secret_access_key=aws_secret_access_key,\n",
    "    )\n",
    "\n",
    "# point the resource at the existing bucket\n",
    "bucket = s3.Bucket('anyoneai-datasets')\n",
    "\n",
    "try:\n",
    "    os.makedirs('credit-data-2010/')\n",
    "except FileExistsError:\n",
    "    # directory already exists\n",
    "    pass\n",
    "\n",
    "files = ['credit-data-2010/LeaderBoard_Data.zip',\n",
    "         '#credit-data-2010/Leaderboard_Submission_Example.zip', \n",
    "         'credit-data-2010/PAKDD-2010 training data.zip', \n",
    "        'credit-data-2010/PAKDD2010_Leaderboard_Submission_Example.txt',\n",
    "        'credit-data-2010/PAKDD2010_Modeling_Data.txt',\n",
    "         'credit-data-2010/PAKDD2010_Prediction_Data.txt',\n",
    "        'credit-data-2010/PAKDD2010_VariablesList.XLS',\n",
    "        'credit-data-2010/Prediction_Data.zip'\n",
    "        ]\n",
    "#download the training dataset\n",
    "for file in files: \n",
    "    with open(file, 'wb') as data:\n",
    "        bucket.download_fileobj(file, data)"
   ]
  }
 ],
 "metadata": {
  "kernelspec": {
   "display_name": "Python 3",
   "language": "python",
   "name": "python3"
  },
  "language_info": {
   "codemirror_mode": {
    "name": "ipython",
    "version": 3
   },
   "file_extension": ".py",
   "mimetype": "text/x-python",
   "name": "python",
   "nbconvert_exporter": "python",
   "pygments_lexer": "ipython3",
   "version": "3.10.6 (main, Nov  2 2022, 18:53:38) [GCC 11.3.0]"
  },
  "orig_nbformat": 4,
  "vscode": {
   "interpreter": {
    "hash": "31f2aee4e71d21fbe5cf8b01ff0e069b9275f58929596ceb00d14d90e3e16cd6"
   }
  }
 },
 "nbformat": 4,
 "nbformat_minor": 2
}
